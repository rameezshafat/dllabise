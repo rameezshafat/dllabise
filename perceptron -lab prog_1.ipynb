{
 "cells": [
  {
   "cell_type": "code",
   "execution_count": 48,
   "id": "860424fb-8854-4d3c-aa22-d901ed3fb1ee",
   "metadata": {},
   "outputs": [
    {
     "name": "stdout",
     "output_type": "stream",
     "text": [
      "AND Gate Output:\n",
      "[[0.]\n",
      " [0.]\n",
      " [0.]\n",
      " [1.]]\n",
      "OR Gate Output:\n",
      "[[0.]\n",
      " [1.]\n",
      " [1.]\n",
      " [1.]]\n"
     ]
    }
   ],
   "source": [
    "import numpy as np\n",
    "\n",
    "# Dataset for AND and OR gates\n",
    "data = np.array([[0, 0], [0, 1], [1, 0], [1, 1]])\n",
    "labels_and = np.array([[0], [0], [0], [1]])\n",
    "labels_or = np.array([[0], [1], [1], [1]])\n",
    "\n",
    "# Sigmoid activation function\n",
    "def sigmoid(x):\n",
    "    return 1 / (1 + np.exp(-x))\n",
    "\n",
    "# Derivative of the sigmoid function\n",
    "def sigmoid_derivative(x):\n",
    "    return sigmoid(x) * (1 - sigmoid(x))\n",
    "\n",
    "# Perceptron class\n",
    "class Perceptron:\n",
    "    def __init__(self, input_size, learning_rate=0.1):\n",
    "        self.weights = np.random.randn(input_size, 1)  # Random weights initialization\n",
    "        self.bias = np.random.randn(1)  # Random bias initialization\n",
    "        self.learning_rate = learning_rate\n",
    "\n",
    "    def predict(self, x):\n",
    "        linear_output = np.dot(x, self.weights) + self.bias\n",
    "        return sigmoid(linear_output)\n",
    "\n",
    "    def train(self, inputs, labels, epochs):\n",
    "        for epoch in range(epochs):\n",
    "            # Forward pass\n",
    "            predictions = self.predict(inputs)\n",
    "            \n",
    "            # Compute the error\n",
    "            error = labels - predictions\n",
    "            \n",
    "            # Backward pass (gradient calculation)\n",
    "            d_weights = np.dot(inputs.T, error * sigmoid_derivative(predictions))\n",
    "            d_bias = np.sum(error * sigmoid_derivative(predictions))\n",
    "            \n",
    "            # Update weights and bias\n",
    "            self.weights += self.learning_rate * d_weights\n",
    "            self.bias += self.learning_rate * d_bias\n",
    "\n",
    "# Train AND gate model\n",
    "and_perceptron = Perceptron(input_size=2, learning_rate=0.1)\n",
    "and_perceptron.train(data, labels_and, epochs=1000)\n",
    "\n",
    "# Train OR gate model\n",
    "or_perceptron = Perceptron(input_size=2, learning_rate=0.1)\n",
    "or_perceptron.train(data, labels_or, epochs=1000)\n",
    "\n",
    "# Test the models\n",
    "and_outputs = np.round(and_perceptron.predict(data))\n",
    "or_outputs = np.round(or_perceptron.predict(data))\n",
    "\n",
    "print(\"AND Gate Output:\")\n",
    "print(and_outputs)\n",
    "print(\"OR Gate Output:\")\n",
    "print(or_outputs)\n"
   ]
  },
  {
   "cell_type": "code",
   "execution_count": 35,
   "id": "68168cb3-edbb-47d9-9fd5-a11b50ea06f2",
   "metadata": {},
   "outputs": [],
   "source": []
  },
  {
   "cell_type": "code",
   "execution_count": 37,
   "id": "f1b0b266-3541-4563-833b-589910af6974",
   "metadata": {},
   "outputs": [
    {
     "ename": "ValueError",
     "evalue": "operands could not be broadcast together with shapes (4,1) (2,1) ",
     "output_type": "error",
     "traceback": [
      "\u001b[0;31m---------------------------------------------------------------------------\u001b[0m",
      "\u001b[0;31mValueError\u001b[0m                                Traceback (most recent call last)",
      "Cell \u001b[0;32mIn[37], line 2\u001b[0m\n\u001b[1;32m      1\u001b[0m and_perceptron \u001b[38;5;241m=\u001b[39m Perceptron(input_size\u001b[38;5;241m=\u001b[39m\u001b[38;5;241m2\u001b[39m, learning_rate\u001b[38;5;241m=\u001b[39m\u001b[38;5;241m0.1\u001b[39m)\n\u001b[0;32m----> 2\u001b[0m and_perceptron\u001b[38;5;241m.\u001b[39mtrain(data, labels_and, epochs\u001b[38;5;241m=\u001b[39m\u001b[38;5;241m1000\u001b[39m)\n",
      "Cell \u001b[0;32mIn[35], line 11\u001b[0m, in \u001b[0;36mPerceptron.train\u001b[0;34m(self, input, labels, epochs)\u001b[0m\n\u001b[1;32m      9\u001b[0m \u001b[38;5;28;01mdef\u001b[39;00m \u001b[38;5;21mtrain\u001b[39m(\u001b[38;5;28mself\u001b[39m, \u001b[38;5;28minput\u001b[39m, labels, epochs):\n\u001b[1;32m     10\u001b[0m     \u001b[38;5;66;03m# forward pass \u001b[39;00m\n\u001b[0;32m---> 11\u001b[0m     predictions \u001b[38;5;241m=\u001b[39m \u001b[38;5;28mself\u001b[39m\u001b[38;5;241m.\u001b[39mpredict(\u001b[38;5;28minput\u001b[39m)\n",
      "Cell \u001b[0;32mIn[35], line 7\u001b[0m, in \u001b[0;36mPerceptron.predict\u001b[0;34m(self, x)\u001b[0m\n\u001b[1;32m      6\u001b[0m \u001b[38;5;28;01mdef\u001b[39;00m \u001b[38;5;21mpredict\u001b[39m(\u001b[38;5;28mself\u001b[39m, x):\n\u001b[0;32m----> 7\u001b[0m     linear_output \u001b[38;5;241m=\u001b[39m np\u001b[38;5;241m.\u001b[39mdot(x, \u001b[38;5;28mself\u001b[39m\u001b[38;5;241m.\u001b[39mweights) \u001b[38;5;241m+\u001b[39m \u001b[38;5;28mself\u001b[39m\u001b[38;5;241m.\u001b[39mbias \n\u001b[1;32m      8\u001b[0m     \u001b[38;5;28;01mreturn\u001b[39;00m sigmoid(linear_output)\n",
      "\u001b[0;31mValueError\u001b[0m: operands could not be broadcast together with shapes (4,1) (2,1) "
     ]
    }
   ],
   "source": []
  },
  {
   "cell_type": "code",
   "execution_count": null,
   "id": "87057b7e-de75-46c1-8893-1b520b3985d3",
   "metadata": {},
   "outputs": [],
   "source": []
  }
 ],
 "metadata": {
  "kernelspec": {
   "display_name": "Python 3 (ipykernel)",
   "language": "python",
   "name": "python3"
  },
  "language_info": {
   "codemirror_mode": {
    "name": "ipython",
    "version": 3
   },
   "file_extension": ".py",
   "mimetype": "text/x-python",
   "name": "python",
   "nbconvert_exporter": "python",
   "pygments_lexer": "ipython3",
   "version": "3.12.2"
  }
 },
 "nbformat": 4,
 "nbformat_minor": 5
}
