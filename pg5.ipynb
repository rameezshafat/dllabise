{
 "cells": [
  {
   "cell_type": "code",
   "execution_count": 31,
   "id": "45dc477b-203e-4a18-884b-58ad8c7a7fff",
   "metadata": {},
   "outputs": [],
   "source": []
  },
  {
   "cell_type": "code",
   "execution_count": 33,
   "id": "f9f75c93-9967-406c-a293-0b8d36bc8383",
   "metadata": {},
   "outputs": [],
   "source": [
    "import torch\n",
    "import torch.nn as nn\n",
    "import torch.optim as optim\n",
    "import numpy as np\n",
    "from torch.utils.data import Dataset, DataLoader\n",
    "from datasets import load_dataset\n",
    "import random\n"
   ]
  },
  {
   "cell_type": "code",
   "execution_count": 35,
   "id": "502256bd-5251-4ab6-b5e7-ac9729f351e9",
   "metadata": {},
   "outputs": [],
   "source": [
    "# Load the dataset\n",
    "dataset = load_dataset(\"wikitext\", \"wikitext-2-raw-v1\")\n",
    "\n",
    "# Extract text data\n",
    "train_texts = dataset[\"train\"][\"text\"]\n",
    "valid_texts = dataset[\"validation\"][\"text\"]\n",
    "test_texts = dataset[\"test\"][\"text\"]\n"
   ]
  },
  {
   "cell_type": "code",
   "execution_count": 37,
   "id": "74bd0374-908b-426e-9e2b-a8fd49b38156",
   "metadata": {},
   "outputs": [],
   "source": [
    "def preprocess_texts(texts):\n",
    "    processed_texts = []\n",
    "    for text in texts:\n",
    "        if text.strip():  # Ignore empty strings\n",
    "            processed_texts.append(text.lower().split())\n",
    "    return processed_texts\n",
    "\n",
    "train_texts = preprocess_texts(train_texts)\n",
    "valid_texts = preprocess_texts(valid_texts)\n",
    "test_texts = preprocess_texts(test_texts)\n"
   ]
  },
  {
   "cell_type": "code",
   "execution_count": 39,
   "id": "4dcc14c2-b1b5-4833-a91f-824572dcd8ba",
   "metadata": {},
   "outputs": [],
   "source": [
    "def build_vocab(texts, max_vocab_size=20000):\n",
    "    all_words = [word for text in texts for word in text]\n",
    "    word_counts = {}\n",
    "    \n",
    "    for word in all_words:\n",
    "        word_counts[word] = word_counts.get(word, 0) + 1\n",
    "\n",
    "    sorted_words = sorted(word_counts.items(), key=lambda x: x[1], reverse=True)\n",
    "    \n",
    "    vocab = {'<PAD>': 0, '<UNK>': 1, '<START>': 2, '<END>': 3}\n",
    "    for word, _ in sorted_words[:max_vocab_size - 4]:\n",
    "        vocab[word] = len(vocab)\n",
    "\n",
    "    return vocab\n",
    "\n",
    "vocab = build_vocab(train_texts + valid_texts)\n"
   ]
  },
  {
   "cell_type": "code",
   "execution_count": 41,
   "id": "c96be715-a6d8-414f-b9d9-b0db7b078e5f",
   "metadata": {},
   "outputs": [],
   "source": [
    "class WikiTextDataset(Dataset):\n",
    "    def __init__(self, texts, seq_length, vocab):\n",
    "        self.sequences = []\n",
    "        self.targets = []\n",
    "\n",
    "        for text in texts:\n",
    "            for i in range(len(text) - seq_length):\n",
    "                seq = text[i:i+seq_length]\n",
    "                target = text[i+seq_length]\n",
    "                \n",
    "                seq_indices = [vocab.get(word, vocab['<UNK>']) for word in seq]\n",
    "                target_index = vocab.get(target, vocab['<UNK>'])\n",
    "                \n",
    "                self.sequences.append(seq_indices)\n",
    "                self.targets.append(target_index)\n",
    "\n",
    "    def __len__(self):\n",
    "        return len(self.sequences)\n",
    "\n",
    "    def __getitem__(self, idx):\n",
    "        return torch.tensor(self.sequences[idx]), torch.tensor(self.targets[idx])\n",
    "\n",
    "seq_length = 5  # Number of words in input sequence\n",
    "train_dataset = WikiTextDataset(train_texts, seq_length, vocab)\n",
    "valid_dataset = WikiTextDataset(valid_texts, seq_length, vocab)\n",
    "\n",
    "train_loader = DataLoader(train_dataset, batch_size=32, shuffle=True)\n",
    "valid_loader = DataLoader(valid_dataset, batch_size=32)\n"
   ]
  },
  {
   "cell_type": "code",
   "execution_count": 45,
   "id": "b519af9f-cf85-4562-8315-f806735db89f",
   "metadata": {},
   "outputs": [],
   "source": [
    "def train_model(model, train_loader, valid_loader, criterion, optimizer, device, epochs=5):\n",
    "    model.to(device)\n",
    "    \n",
    "    for epoch in range(epochs):\n",
    "        model.train()\n",
    "        total_train_loss = 0\n",
    "        print(f\"\\n🚀 Starting Epoch {epoch+1}/{epochs}\") \n",
    "        for sequences, targets in train_loader:\n",
    "            sequences, targets = sequences.to(device), targets.to(device)\n",
    "            \n",
    "            optimizer.zero_grad()\n",
    "            predictions = model(sequences)\n",
    "            loss = criterion(predictions, targets)\n",
    "            loss.backward()\n",
    "            optimizer.step()\n",
    "            \n",
    "            total_train_loss += loss.item()\n",
    "        \n",
    "        # Validation Step\n",
    "        model.eval()\n",
    "        total_val_loss = 0\n",
    "        with torch.no_grad():\n",
    "            for sequences, targets in valid_loader:\n",
    "                sequences, targets = sequences.to(device), targets.to(device)\n",
    "                predictions = model(sequences)\n",
    "                loss = criterion(predictions, targets)\n",
    "                total_val_loss += loss.item()\n",
    "        \n",
    "        print(f'Epoch {epoch+1}/{epochs}: Training Loss: {total_train_loss/len(train_loader):.4f}, Validation Loss: {total_val_loss/len(valid_loader):.4f}')\n"
   ]
  },
  {
   "cell_type": "code",
   "execution_count": 47,
   "id": "5d927b82-d64c-4677-b426-1e8628fa4239",
   "metadata": {},
   "outputs": [
    {
     "name": "stdout",
     "output_type": "stream",
     "text": [
      "Epoch 1/5: Training Loss: 5.9384, Validation Loss: 5.9379\n",
      "Epoch 2/5: Training Loss: 5.6177, Validation Loss: 5.8742\n",
      "Epoch 3/5: Training Loss: 5.4888, Validation Loss: 5.8345\n",
      "Epoch 4/5: Training Loss: 5.3972, Validation Loss: 5.8200\n",
      "Epoch 5/5: Training Loss: 5.3327, Validation Loss: 5.8332\n"
     ]
    }
   ],
   "source": [
    "device = torch.device(\"cuda\" if torch.cuda.is_available() else \"cpu\")\n",
    "\n",
    "# Model hyperparameters\n",
    "vocab_size = len(vocab)\n",
    "embedding_dim = 100\n",
    "hidden_dim = 256\n",
    "num_layers = 2\n",
    "\n",
    "# Initialize model\n",
    "model = LSTMLanguageModel(vocab_size, embedding_dim, hidden_dim, num_layers).to(device)\n",
    "criterion = nn.CrossEntropyLoss()\n",
    "optimizer = optim.Adam(model.parameters(), lr=0.001)\n",
    "\n",
    "# Train the model\n",
    "train_model(model, train_loader, valid_loader, criterion, optimizer, device, epochs=5)\n"
   ]
  },
  {
   "cell_type": "code",
   "execution_count": 48,
   "id": "51b3d3ef-2b00-4d53-a4e2-d718ae049ec0",
   "metadata": {},
   "outputs": [
    {
     "name": "stdout",
     "output_type": "stream",
     "text": [
      "Input: the king of the jungle\n",
      "Predicted words: [',', '.', 'of', 'and', \"'s\"]\n",
      "\n",
      "Input: deep learning is a subset\n",
      "Predicted words: [',', 'of', '.', 'and', '@-@']\n",
      "\n"
     ]
    }
   ],
   "source": [
    "def predict_next_word(model, sequence, vocab, device, top_k=5):\n",
    "    model.eval()\n",
    "    \n",
    "    seq_indices = [vocab.get(word, vocab['<UNK>']) for word in sequence]\n",
    "    tensor = torch.LongTensor(seq_indices).unsqueeze(0).to(device)\n",
    "    \n",
    "    with torch.no_grad():\n",
    "        predictions = model(tensor)\n",
    "    \n",
    "    top_k_indices = torch.topk(predictions, top_k).indices[0]\n",
    "    top_k_words = [list(vocab.keys())[list(vocab.values()).index(idx)] for idx in top_k_indices]\n",
    "    \n",
    "    return top_k_words\n",
    "\n",
    "# Example Predictions\n",
    "test_sequences = [[\"the\", \"king\", \"of\", \"the\", \"jungle\"], [\"deep\", \"learning\", \"is\", \"a\", \"subset\"]]\n",
    "\n",
    "for sequence in test_sequences:\n",
    "    predictions = predict_next_word(model, sequence, vocab, device)\n",
    "    print(f\"Input: {' '.join(sequence)}\")\n",
    "    print(f\"Predicted words: {predictions}\\n\")\n"
   ]
  },
  {
   "cell_type": "code",
   "execution_count": null,
   "id": "5c22f4b6-add5-4710-8edd-a69bacc3cf26",
   "metadata": {},
   "outputs": [],
   "source": []
  }
 ],
 "metadata": {
  "kernelspec": {
   "display_name": "Python 3 (ipykernel)",
   "language": "python",
   "name": "python3"
  },
  "language_info": {
   "codemirror_mode": {
    "name": "ipython",
    "version": 3
   },
   "file_extension": ".py",
   "mimetype": "text/x-python",
   "name": "python",
   "nbconvert_exporter": "python",
   "pygments_lexer": "ipython3",
   "version": "3.12.2"
  }
 },
 "nbformat": 4,
 "nbformat_minor": 5
}
